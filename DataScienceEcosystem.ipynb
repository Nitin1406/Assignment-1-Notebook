{
 "cells": [
  {
   "cell_type": "markdown",
   "id": "475ad0dd-87de-4fff-b7b8-47360be3887d",
   "metadata": {},
   "source": [
    "# Data Science Tools and Ecosystem"
   ]
  },
  {
   "cell_type": "markdown",
   "id": "5ced2033-bb05-4fbd-ab4e-ecda6b792942",
   "metadata": {},
   "source": [
    "This is my first notebook for practice and in it \"Data Science Tools and Ecosystem\" are discussed."
   ]
  },
  {
   "cell_type": "markdown",
   "id": "7f04df92-3d0c-4e8f-9446-d4a362c24b18",
   "metadata": {
    "tags": []
   },
   "source": [
    "**Objectives:**\n",
    "\n",
    "List of Job Titles\n",
    "\n",
    "- Data Scientist\n",
    "- Data Analyst\n",
    "- Data Engineer\n",
    "- Statistician\n",
    "- Data Architect\n",
    "- BI Analyst"
   ]
  },
  {
   "cell_type": "code",
   "execution_count": null,
   "id": "22be1970-6b6d-432c-b7a2-968b9748425a",
   "metadata": {},
   "outputs": [],
   "source": [
    "Some of the popular languages that Data Scientists use are:\n",
    "\n",
    "1. Python\n",
    "2. Julia\n",
    "3. R\n",
    "4. SQL"
   ]
  },
  {
   "cell_type": "markdown",
   "id": "48ace586-6c63-4d85-a05c-d6c0103b1c90",
   "metadata": {},
   "source": [
    "Some of the commonly used libraries used by Data Scientists include:\n",
    "\n",
    "1. NumPy\n",
    "2. Pandas\n",
    "3. Matplotlib\n",
    "4. Seaborn\n",
    "5. TensorFlow\n",
    "6. PyTorch"
   ]
  },
  {
   "cell_type": "markdown",
   "id": "5162759d-3d81-4ea3-801d-6ad62619c7b8",
   "metadata": {},
   "source": [
    "| Data Science Tools |\n",
    "| ------------------ |\n",
    "| RStudio |\n",
    "| Jupyter Notebooks |\n",
    "| Apache Spark |"
   ]
  },
  {
   "cell_type": "markdown",
   "id": "9437c672-5890-4ae4-8ffb-0c1137f37dba",
   "metadata": {},
   "source": [
    "### Below are a few examples of evaluating arithmetic expressions in Python"
   ]
  },
  {
   "cell_type": "code",
   "execution_count": 1,
   "id": "d7a8cf6a-299a-472b-bfcf-9602ecec9c50",
   "metadata": {
    "tags": []
   },
   "outputs": [
    {
     "data": {
      "text/plain": [
       "17"
      ]
     },
     "execution_count": 1,
     "metadata": {},
     "output_type": "execute_result"
    }
   ],
   "source": [
    "#This a simple arithmetic expression to mutiply then add integers\n",
    "\n",
    "(3*4)+5"
   ]
  },
  {
   "cell_type": "code",
   "execution_count": 2,
   "id": "0cbbd515-b7b1-4bed-a1f4-e440ba36b31a",
   "metadata": {
    "tags": []
   },
   "outputs": [
    {
     "data": {
      "text/plain": [
       "3.3333333333333335"
      ]
     },
     "execution_count": 2,
     "metadata": {},
     "output_type": "execute_result"
    }
   ],
   "source": [
    "# This will convert 200 minutes to hours by diving by 60\n",
    "\n",
    "(200)/60"
   ]
  },
  {
   "cell_type": "markdown",
   "id": "bf931697-68bf-4f70-8a5f-bdf2d66fa04f",
   "metadata": {},
   "source": [
    "## Author\n",
    "\n",
    " Nitin"
   ]
  },
  {
   "cell_type": "code",
   "execution_count": null,
   "id": "396cfaf2-0df8-4363-82e2-fbc93be88b2b",
   "metadata": {},
   "outputs": [],
   "source": []
  }
 ],
 "metadata": {
  "kernelspec": {
   "display_name": "Python 3 (ipykernel)",
   "language": "python",
   "name": "python3"
  },
  "language_info": {
   "codemirror_mode": {
    "name": "ipython",
    "version": 3
   },
   "file_extension": ".py",
   "mimetype": "text/x-python",
   "name": "python",
   "nbconvert_exporter": "python",
   "pygments_lexer": "ipython3",
   "version": "3.11.5"
  }
 },
 "nbformat": 4,
 "nbformat_minor": 5
}
